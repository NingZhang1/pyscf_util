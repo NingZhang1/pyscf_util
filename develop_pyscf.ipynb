{
 "cells": [
  {
   "cell_type": "code",
   "execution_count": null,
   "metadata": {},
   "outputs": [],
   "source": [
    "import pyscf\n",
    "from pyscf import lo\n",
    "import Driver_SCF\n",
    "import get_atom_orb\n",
    "import Util_Mole\n",
    "from functools import reduce\n",
    "import numpy\n",
    "import Chem_Bond_Analysis\n",
    "from Chem_Bond_Analysis import generate_atm_bas_given_label,occ_label,vir_label\n",
    "import seaborn, pandas\n",
    "import matplotlib.pyplot as plt\n",
    "import Util_Math\n",
    "import torch\n",
    "import Util_Pic"
   ]
  },
  {
   "cell_type": "code",
   "execution_count": null,
   "metadata": {},
   "outputs": [],
   "source": [
    "def _analysis_error(data):\n",
    "    etot = []\n",
    "    eocc = []\n",
    "    evir = []\n",
    "\n",
    "    for _data in data:\n",
    "        etot_tmp = _data[\"etot\"]\n",
    "        eocc_tmp = _data[\"occ\"]\n",
    "        evir_tmp = _data[\"occvir\"]\n",
    "        etot.append(etot_tmp)\n",
    "        eocc.append(eocc_tmp-etot_tmp)\n",
    "        evir.append(evir_tmp-etot_tmp)\n",
    "\n",
    "    plt.figure(figsize=(16, 9))\n",
    "    plt.scatter(etot, eocc)\n",
    "    plt.show()\n",
    "\n",
    "    plt.figure(figsize=(16, 9))\n",
    "    plt.scatter(etot, evir)\n",
    "    plt.show()\n",
    "\n",
    "    plt.figure(figsize=(16, 9))\n",
    "    plt.hist(eocc)\n",
    "    plt.show()\n",
    "\n",
    "    plt.figure(figsize=(16, 9))\n",
    "    plt.hist(evir)\n",
    "    plt.show()\n"
   ]
  },
  {
   "cell_type": "code",
   "execution_count": null,
   "metadata": {},
   "outputs": [],
   "source": [
    "basis = [\"6-31G(d)\", \"ccpvdz\", \"ccpvtz\", \"ccpvqz\", \"aug-ccpvdz\"]\n",
    "vir = [\"large\", \"minimal\"]\n",
    "\n",
    "for basis_ in basis:\n",
    "    for vir_ in vir:\n",
    "        filename = \"loc_mo_analysis_\" + basis_ + \"_\" + vir_ + \".data\"\n",
    "        data = torch.load(filename)\n",
    "        print(\"******************* %s %s *******************\" % (basis_, vir_))\n",
    "        _analysis_error(data)\n"
   ]
  },
  {
   "cell_type": "code",
   "execution_count": null,
   "metadata": {},
   "outputs": [],
   "source": [
    "basis = \"6-31G(d)\"\n",
    "# basis = \"sto-3g\"\n",
    "# basis = \"ccpvtz\"\n",
    "atom_bas = get_atom_orb.atom_min_cas_bas([\"C\",\"H\",\"O\",\"N\"], basis=basis, print_verbose=0)"
   ]
  },
  {
   "cell_type": "code",
   "execution_count": null,
   "metadata": {},
   "outputs": [],
   "source": []
  },
  {
   "cell_type": "code",
   "execution_count": null,
   "metadata": {},
   "outputs": [],
   "source": [
    "atom_xyz =  '''\n",
    "C 0 0 0\n",
    "'''\n",
    "chem_bond_analyzer = Chem_Bond_Analysis.ChemBondAnalyzer(\n",
    "    xyz=atom_xyz, print_verbose=0,basis=basis)\n",
    "chem_bond_analyzer.atom_bas = atom_bas\n",
    "# chem_bond_analyzer.check_cnvg_orb_proj_atm_occ()\n",
    "chem_bond_analyzer.check_cnvg_orb_proj_atm_occ_vir()\n",
    "\n",
    "dm = chem_bond_analyzer.dm\n",
    "Util_Pic.draw_heatmap(dm, None, None, numpy.max(\n",
    "    dm), numpy.min(dm), x_label=\"orb\", y_label=\"orb\")\n",
    "\n",
    "dm_mol_atom = chem_bond_analyzer.dm_mole_atom_bas\n",
    "dm_mol_atom_log = numpy.log10(numpy.abs(dm_mol_atom))\n",
    "dm_mol_atom_log[dm_mol_atom_log<-4] = -8\n",
    "Util_Pic.draw_heatmap(dm_mol_atom, None, None, numpy.max(\n",
    "    dm_mol_atom), numpy.min(dm_mol_atom), x_label=\"orb\", y_label=\"orb\")\n",
    "Util_Pic.draw_heatmap(dm_mol_atom_log, None, None, numpy.max(\n",
    "    dm_mol_atom_log), numpy.min(dm_mol_atom_log), x_label=\"orb\", y_label=\"orb\")"
   ]
  },
  {
   "cell_type": "code",
   "execution_count": null,
   "metadata": {},
   "outputs": [],
   "source": [
    "mol_xyz = '''\n",
    "C 0.1687934049 1.5251304224 -0.1574705569\n",
    "C -0.1873762459 0.0619476271 0.1467937419\n",
    "C 0.5091764497 -0.4399621499 1.3912584954\n",
    "O 1.1819107901 -1.4356558471 1.4581638410\n",
    "H 1.2312651068 1.6313725408 -0.3963269270\n",
    "H -0.4074466801 1.8943168107 -1.0096924649\n",
    "H -0.0493103389 2.1726626043 0.6985743244\n",
    "H -1.2690515996 -0.0166806666 0.3285443317\n",
    "H 0.0627906152 -0.6025047855 -0.6847403572\n",
    "H 0.3538484078 0.2066337038 2.2887105216\n",
    "'''"
   ]
  },
  {
   "cell_type": "code",
   "execution_count": null,
   "metadata": {},
   "outputs": [],
   "source": [
    "chem_bond_analyzer = Chem_Bond_Analysis.ChemBondAnalyzer(\n",
    "    xyz=mol_xyz, print_verbose=0,basis=basis)\n",
    "chem_bond_analyzer.atom_bas = atom_bas\n",
    "chem_bond_analyzer._run_scf()\n",
    "# chem_bond_analyzer.check_cnvg_orb_proj_atm_occ()\n",
    "# chem_bond_analyzer.check_cnvg_orb_proj_atm_occ_vir()"
   ]
  },
  {
   "cell_type": "code",
   "execution_count": null,
   "metadata": {},
   "outputs": [],
   "source": [
    "chem_bond_analyzer.analysis_mole_occ_orb(print_verbose=11)"
   ]
  },
  {
   "cell_type": "code",
   "execution_count": null,
   "metadata": {},
   "outputs": [],
   "source": [
    "chem_bond_analyzer.get_mole_graph()"
   ]
  },
  {
   "cell_type": "code",
   "execution_count": null,
   "metadata": {},
   "outputs": [],
   "source": [
    "chem_bond_analyzer.mol.atom_coords()\n",
    "chem_bond_analyzer.mol.unit"
   ]
  },
  {
   "cell_type": "code",
   "execution_count": null,
   "metadata": {},
   "outputs": [],
   "source": [
    "Util_Pic.draw_heatmap(chem_bond_analyzer.mole_atm_bas, None, None, numpy.max(\n",
    "        chem_bond_analyzer.mole_atm_bas), numpy.min(chem_bond_analyzer.mole_atm_bas), x_label=\"orb\", y_label=\"orb\")"
   ]
  },
  {
   "cell_type": "code",
   "execution_count": null,
   "metadata": {},
   "outputs": [],
   "source": [
    "Util_Pic.draw_heatmap(chem_bond_analyzer.mole_atm_bas.I, None, None, numpy.max(\n",
    "        chem_bond_analyzer.mole_atm_bas), numpy.min(chem_bond_analyzer.mole_atm_bas), x_label=\"orb\", y_label=\"orb\")"
   ]
  },
  {
   "cell_type": "code",
   "execution_count": null,
   "metadata": {},
   "outputs": [],
   "source": [
    "chem_bond_analyzer.check_cnvg_orb_proj_atm_occ()\n",
    "chem_bond_analyzer.e_tot"
   ]
  },
  {
   "cell_type": "code",
   "execution_count": null,
   "metadata": {},
   "outputs": [],
   "source": [
    "loc_mo = chem_bond_analyzer.loc_mo"
   ]
  },
  {
   "cell_type": "code",
   "execution_count": null,
   "metadata": {},
   "outputs": [],
   "source": [
    "chem_bond_analyzer.mole_atm_bas.I.T"
   ]
  },
  {
   "cell_type": "code",
   "execution_count": null,
   "metadata": {},
   "outputs": [],
   "source": [
    "chem_bond_analyzer.mole_atm_bas.I"
   ]
  },
  {
   "cell_type": "code",
   "execution_count": null,
   "metadata": {},
   "outputs": [],
   "source": [
    "# C-H bond \n",
    "\n",
    "for i in range(loc_mo.shape[1]-1):\n",
    "    dm_2 = numpy.dot(loc_mo[:, i:i+1], loc_mo[:, i:i+1].T) * 2\n",
    "    dm_2 = reduce(numpy.dot, (chem_bond_analyzer.mole_atm_bas.I,\n",
    "                  dm_2, chem_bond_analyzer.mole_atm_bas.I.T))\n",
    "    # print(dm_2)\n",
    "    dm_2_log = numpy.log10(numpy.abs(dm_2))\n",
    "    dm_2_log[dm_2_log < -4] = -8\n",
    "    Util_Pic.draw_heatmap(dm_2, None, None, numpy.max(\n",
    "        dm_2), numpy.min(dm_2), x_label=\"orb\", y_label=\"orb\")\n",
    "    Util_Pic.draw_heatmap(dm_2_log, None, None, numpy.max(\n",
    "        dm_2_log), numpy.min(dm_2_log), x_label=\"orb\", y_label=\"orb\")"
   ]
  },
  {
   "cell_type": "code",
   "execution_count": null,
   "metadata": {},
   "outputs": [],
   "source": [
    "dm = chem_bond_analyzer.dm\n",
    "dm_log = numpy.log(numpy.abs(dm))\n",
    "Util_Pic.draw_heatmap(dm_mol_atom, None, None, numpy.max(\n",
    "    dm_mol_atom), numpy.min(dm_mol_atom), x_label=\"orb\", y_label=\"orb\")\n",
    "dm_log[dm_log<-6] = -12\n",
    "Util_Pic.draw_heatmap(dm_log, None, None, numpy.max(\n",
    "    dm_log), numpy.min(dm_log), x_label=\"orb\", y_label=\"orb\")"
   ]
  },
  {
   "cell_type": "code",
   "execution_count": null,
   "metadata": {},
   "outputs": [],
   "source": [
    "dm_mol_atom = chem_bond_analyzer.dm_mole_atom_bas\n",
    "dm_mol_atom_log = numpy.log10(numpy.abs(dm_mol_atom))\n",
    "dm_mol_atom_log[dm_mol_atom_log<-6] = -12\n",
    "Util_Pic.draw_heatmap(dm_mol_atom, None, None, numpy.max(\n",
    "    dm_mol_atom), numpy.min(dm_mol_atom), x_label=\"orb\", y_label=\"orb\")\n",
    "Util_Pic.draw_heatmap(dm_mol_atom_log, None, None, numpy.max(\n",
    "    dm_mol_atom_log), numpy.min(dm_mol_atom_log), x_label=\"orb\", y_label=\"orb\")"
   ]
  },
  {
   "cell_type": "code",
   "execution_count": null,
   "metadata": {},
   "outputs": [],
   "source": [
    "Util_Pic.draw_heatmap(dm_mol_atom, None, None, numpy.max(\n",
    "    dm_mol_atom), numpy.min(dm_mol_atom), x_label=\"orb\", y_label=\"orb\")\n"
   ]
  },
  {
   "cell_type": "code",
   "execution_count": null,
   "metadata": {},
   "outputs": [],
   "source": [
    "Util_Pic.draw_heatmap(dm_mol_atom_log, None, None, numpy.max(\n",
    "    dm_mol_atom_log), numpy.min(dm_mol_atom_log), x_label=\"orb\", y_label=\"orb\")\n"
   ]
  },
  {
   "cell_type": "code",
   "execution_count": null,
   "metadata": {},
   "outputs": [],
   "source": [
    "# 35\n",
    "mol, rohf, loc_orb, comp_orb = Chem_Bond_Analysis.analysis_mole_occ_orb('''\n",
    "C 0.1687934049 1.5251304224 -0.1574705569\n",
    "C -0.1873762459 0.0619476271 0.1467937419\n",
    "C 0.5091764497 -0.4399621499 1.3912584954\n",
    "O 1.1819107901 -1.4356558471 1.4581638410\n",
    "H 1.2312651068 1.6313725408 -0.3963269270\n",
    "H -0.4074466801 1.8943168107 -1.0096924649\n",
    "H -0.0493103389 2.1726626043 0.6985743244\n",
    "H -1.2690515996 -0.0166806666 0.3285443317\n",
    "H 0.0627906152 -0.6025047855 -0.6847403572\n",
    "H 0.3538484078 0.2066337038 2.2887105216\n",
    "''', atom_bas=atom_bas, basis=basis, latex=False)\n",
    "\n",
    "# 137\n",
    "# analysis_mole_occ_orb('''\n",
    "# C 0.0347806456 1.2913768586 0.1247459533\n",
    "# O -0.0124513596 -0.1105695501 0.0035215127\n",
    "# C -1.3281919535 -0.6320221466 -0.0127607421\n",
    "# C -1.1967300713 -2.1468266455 0.0064786786\n",
    "# O -0.5031446939 -2.5873432681 1.1564186604\n",
    "# H 1.0873414096 1.5846828113 0.1391786759\n",
    "# H -0.4608000759 1.7890668040 -0.7231438927\n",
    "# H -0.4453207650 1.6365049394 1.0536386033\n",
    "# H -1.8839981446 -0.2911083706 0.8759161059\n",
    "# H -1.8749792357 -0.2956683369 -0.9096196771\n",
    "# H -2.1909411142 -2.6051178926 0.0283531110\n",
    "# H -0.6937741941 -2.4732100908 -0.9180616798\n",
    "# H 0.2895967725 -2.0398442621 1.2052767005\n",
    "# ''',basis=\"ccpvtz\")\n",
    "\n",
    "# 180\n",
    "# analysis_mole_occ_orb('''\n",
    "# C -0.0271346400 1.5221203086 0.0521305946\n",
    "# C 0.0323693578 -0.0124749555 -0.0304120233\n",
    "# C 0.7282693006 -0.5092869150 -1.2711077622\n",
    "# C 0.1197239999 -0.2618318564 -2.6264349659\n",
    "# N 1.8326439706 -1.1282801584 -1.0913424504\n",
    "# O 2.4056288198 -1.5311268206 -2.3124791001\n",
    "# H 0.9803323016 1.9481482522 0.0827491978\n",
    "# H -0.5483940531 1.9540764861 -0.8082238646\n",
    "# H -0.5580317568 1.8383921734 0.9549880432\n",
    "# H 0.5562345897 -0.4149043749 0.8407760193\n",
    "# H -0.9901253601 -0.4139258185 -0.0136576368\n",
    "# H 0.7340383410 0.4356263481 -3.2064085046\n",
    "# H 0.0848704736 -1.1928804821 -3.1995737774\n",
    "# H -0.8885473976 0.1490816380 -2.5428579112\n",
    "# H 3.1970636931 -1.9934940451 -2.0182152584\n",
    "# ''',basis=basis)\n"
   ]
  },
  {
   "cell_type": "code",
   "execution_count": null,
   "metadata": {},
   "outputs": [],
   "source": [
    "a = numpy.argsort(comp_orb[:,5])\n",
    "print(comp_orb[:,5][a[-1]])\n",
    "print(comp_orb[:,5][a[-2]])\n",
    "print(comp_orb[:,5][a[-3]])"
   ]
  },
  {
   "cell_type": "code",
   "execution_count": null,
   "metadata": {},
   "outputs": [],
   "source": [
    "# 146\n",
    "_, _, _, _ = Chem_Bond_Analysis.analysis_mole_occ_orb('''\n",
    "O -0.1067522688 0.2689337451 0.6057961106\n",
    "C 0.1092672367 1.1676152927 -0.1749216340\n",
    "C 1.2790736750 2.0782343341 -0.0588467453\n",
    "C 1.4964489390 2.7013959092 1.2927537232\n",
    "N 2.3836126925 1.6552095598 0.8154240580\n",
    "H -0.5696452368 1.3625356471 -1.0315900759\n",
    "H 1.5581001544 2.6326128995 -0.9500281947\n",
    "H 1.9254436948 3.6980650620 1.3385645979\n",
    "H 0.7690944710 2.4619330341 2.0635464902\n",
    "H 2.1010635423 0.7682690363 1.2350124001\n",
    "''', atom_bas=atom_bas, basis=basis, latex=False)\n"
   ]
  },
  {
   "cell_type": "code",
   "execution_count": null,
   "metadata": {},
   "outputs": [],
   "source": [
    "# 199\n",
    "\n",
    "# mol, rohf, loc_orb = analysis_mole_occ_orb('''\n",
    "# O 0.1144614910 1.3501199050 0.2152030541\n",
    "# C 0.0733291800 0.0129344505 0.0032687066\n",
    "# C 0.0776309623 -0.8015496878 -1.0981976451\n",
    "# N 0.0184319312 -2.1238248043 -0.6969565349\n",
    "# C -0.0205120527 -2.1011226968 0.6089495301\n",
    "# N 0.0108864053 -0.8149840425 1.0932893989\n",
    "# H 0.1574570860 1.7926474026 -0.6379727847\n",
    "# H 0.1191646930 -0.5214360219 -2.1394911247\n",
    "# H -0.0709681805 -2.9568779431 1.2645592403\n",
    "# H -0.0073527155 -0.5110280517 2.0524576694\n",
    "# ''',basis=\"ccpvtz\",latex=True)"
   ]
  }
 ],
 "metadata": {
  "interpreter": {
   "hash": "d527f48314d0ee037b1ffa1b151601e7885fc7b81d36e27342f09dc4bf5a68c1"
  },
  "kernelspec": {
   "display_name": "Python 3.9.12 ('mol_se3')",
   "language": "python",
   "name": "python3"
  },
  "language_info": {
   "codemirror_mode": {
    "name": "ipython",
    "version": 3
   },
   "file_extension": ".py",
   "mimetype": "text/x-python",
   "name": "python",
   "nbconvert_exporter": "python",
   "pygments_lexer": "ipython3",
   "version": "3.9.12"
  },
  "orig_nbformat": 4
 },
 "nbformat": 4,
 "nbformat_minor": 2
}
