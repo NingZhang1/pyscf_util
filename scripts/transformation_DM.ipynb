{
 "cells": [
  {
   "cell_type": "code",
   "execution_count": null,
   "metadata": {},
   "outputs": [],
   "source": [
    "import pyscf\n",
    "import Driver_SCF\n",
    "import numpy\n",
    "import Chem_Bond_Analysis\n",
    "import Util_Pic\n",
    "import Util_Mole\n",
    "from functools import reduce"
   ]
  },
  {
   "cell_type": "code",
   "execution_count": null,
   "metadata": {},
   "outputs": [],
   "source": [
    "import get_atom_orb\n",
    "basis = \"ccpvdz\"\n",
    "atom_bas = get_atom_orb.atom_min_cas_bas([\"C\",\"H\",\"O\",\"N\"], basis=basis, print_verbose=0)"
   ]
  },
  {
   "cell_type": "code",
   "execution_count": null,
   "metadata": {},
   "outputs": [],
   "source": [
    "# mol_xyz = '''\n",
    "# C 0.1687934049 1.5251304224 -0.1574705569\n",
    "# C -0.1873762459 0.0619476271 0.1467937419\n",
    "# C 0.5091764497 -0.4399621499 1.3912584954\n",
    "# O 1.1819107901 -1.4356558471 1.4581638410\n",
    "# H 1.2312651068 1.6313725408 -0.3963269270\n",
    "# H -0.4074466801 1.8943168107 -1.0096924649\n",
    "# H -0.0493103389 2.1726626043 0.6985743244\n",
    "# H -1.2690515996 -0.0166806666 0.3285443317\n",
    "# H 0.0627906152 -0.6025047855 -0.6847403572\n",
    "# H 0.3538484078 0.2066337038 2.2887105216\n",
    "# '''\n",
    "\n",
    "mol_xyz = '''\n",
    "O 0 0 0\n",
    "H 1 0 0 \n",
    "H 0 1 0\n",
    "'''\n",
    "\n",
    "# mol_xyz = '''\n",
    "# H 0.7 0 0 \n",
    "# H -0.7 1 0\n",
    "# '''"
   ]
  },
  {
   "cell_type": "code",
   "execution_count": null,
   "metadata": {},
   "outputs": [],
   "source": [
    "Mol = Util_Mole.get_mol(mol_xyz,0,0,basis)"
   ]
  },
  {
   "cell_type": "code",
   "execution_count": null,
   "metadata": {},
   "outputs": [],
   "source": [
    "_, bas, loc_occ, bas_occ, _, _ = Chem_Bond_Analysis.generate_atom_basis(Mol, atom_bas)\n"
   ]
  },
  {
   "cell_type": "code",
   "execution_count": null,
   "metadata": {},
   "outputs": [],
   "source": [
    "my_scf = Driver_SCF.Run_SCF(Mol,False,False)\n",
    "dma,dmb = my_scf.make_rdm1(my_scf.mo_coeff,my_scf.mo_occ)\n",
    "dm1 = dma+dmb\n",
    "# print(dm1)"
   ]
  },
  {
   "cell_type": "code",
   "execution_count": null,
   "metadata": {},
   "outputs": [],
   "source": [
    "#  转换 DM \n",
    "\n",
    "bas = numpy.matrix(bas)\n",
    "dm1_atm_bas = reduce(numpy.dot,(bas.I,dm1,bas.I.T))\n",
    "# print(dm1_atm_bas)\n",
    "Util_Pic.draw_heatmap(dm1_atm_bas, None, None,vmax=2, vmin=-0.5, x_label=\"orb\",y_label=\"orb\")\n"
   ]
  }
 ],
 "metadata": {
  "kernelspec": {
   "display_name": "Python 3.8.10 64-bit",
   "language": "python",
   "name": "python3"
  },
  "language_info": {
   "codemirror_mode": {
    "name": "ipython",
    "version": 3
   },
   "file_extension": ".py",
   "mimetype": "text/x-python",
   "name": "python",
   "nbconvert_exporter": "python",
   "pygments_lexer": "ipython3",
   "version": "3.8.10"
  },
  "orig_nbformat": 4,
  "vscode": {
   "interpreter": {
    "hash": "31f2aee4e71d21fbe5cf8b01ff0e069b9275f58929596ceb00d14d90e3e16cd6"
   }
  }
 },
 "nbformat": 4,
 "nbformat_minor": 2
}
