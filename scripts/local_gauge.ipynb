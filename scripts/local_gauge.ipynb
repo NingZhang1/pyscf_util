{
 "cells": [
  {
   "cell_type": "code",
   "execution_count": null,
   "metadata": {},
   "outputs": [],
   "source": [
    "import pyscf\n",
    "from pyscf import lo\n",
    "import Driver_SCF\n",
    "import get_atom_orb\n",
    "import Util_Mole\n",
    "from functools import reduce\n",
    "import numpy\n",
    "import Chem_Bond_Analysis\n",
    "from Chem_Bond_Analysis import generate_atm_bas_given_label,occ_label,vir_label\n",
    "import seaborn, pandas\n",
    "import matplotlib.pyplot as plt\n",
    "import Util_Math\n",
    "import torch\n",
    "import Util_Pic"
   ]
  },
  {
   "attachments": {},
   "cell_type": "markdown",
   "metadata": {},
   "source": [
    "This script demonstrates how to resolve the local gauge problem when expanding DM over atom's HF orbitals. \n",
    "However, if you use a 3D-equivariant network, this script doesn't help you."
   ]
  },
  {
   "cell_type": "code",
   "execution_count": null,
   "metadata": {},
   "outputs": [],
   "source": [
    "# basis = \"6-31G(d)\"\n",
    "# basis = \"sto-3g\"\n",
    "basis = \"ccpvdz\"\n",
    "atom_bas = get_atom_orb.atom_min_cas_bas([\"C\",\"H\",\"O\",\"N\"], basis=basis, print_verbose=0)"
   ]
  },
  {
   "cell_type": "code",
   "execution_count": null,
   "metadata": {},
   "outputs": [],
   "source": [
    "mol_xyz = '''\n",
    "C 0.1687934049 1.5251304224 -0.1574705569\n",
    "C -0.1873762459 0.0619476271 0.1467937419\n",
    "C 0.5091764497 -0.4399621499 1.3912584954\n",
    "O 1.1819107901 -1.4356558471 1.4581638410\n",
    "H 1.2312651068 1.6313725408 -0.3963269270\n",
    "H -0.4074466801 1.8943168107 -1.0096924649\n",
    "H -0.0493103389 2.1726626043 0.6985743244\n",
    "H -1.2690515996 -0.0166806666 0.3285443317\n",
    "H 0.0627906152 -0.6025047855 -0.6847403572\n",
    "H 0.3538484078 0.2066337038 2.2887105216\n",
    "'''\n",
    "\n",
    "mol_xyz = '''\n",
    "O 0 0 0\n",
    "H 1 0 0 \n",
    "H 0 1 0\n",
    "'''\n",
    "\n",
    "# mol_xyz = '''\n",
    "# H 0.7 0 0 \n",
    "# H -0.7 1 0\n",
    "# '''"
   ]
  },
  {
   "cell_type": "code",
   "execution_count": null,
   "metadata": {},
   "outputs": [],
   "source": [
    "Chem_Bond_Analysis.analysis_mole_occ_orb(mol_xyz, atom_bas, basis)"
   ]
  },
  {
   "cell_type": "code",
   "execution_count": null,
   "metadata": {},
   "outputs": [],
   "source": [
    "# the origin moleculer\n",
    "\n",
    "chem_bond_analyzer = Chem_Bond_Analysis.ChemBondAnalyzer(\n",
    "    xyz=mol_xyz, print_verbose=0,basis=basis)\n",
    "chem_bond_analyzer.atom_bas = atom_bas\n",
    "chem_bond_analyzer._run_scf()"
   ]
  },
  {
   "cell_type": "code",
   "execution_count": null,
   "metadata": {},
   "outputs": [],
   "source": [
    "# get mole bonding graph\n",
    "\n",
    "mole_graph = chem_bond_analyzer.get_mole_graph()\n",
    "print(mole_graph)\n",
    "\n",
    "chem_bond_analyzer.analysis_mole_occ_orb(print_verbose=12)"
   ]
  },
  {
   "cell_type": "code",
   "execution_count": null,
   "metadata": {},
   "outputs": [],
   "source": [
    "xyz_list = Util_Mole.get_mol_xyz_list_format(chem_bond_analyzer.mol)"
   ]
  },
  {
   "cell_type": "code",
   "execution_count": null,
   "metadata": {},
   "outputs": [],
   "source": [
    "bas,occ = Util_Mole.get_atm_bas_in_mole_fix_local_gauge_problem(chem_bond_analyzer.mol,mole_graph)\n",
    "\n",
    "# print(bas)\n",
    "\n",
    "_, bas, loc_occ, bas_occ, _, _ = Chem_Bond_Analysis.generate_atom_basis(chem_bond_analyzer.mol, atom_bas)\n",
    "\n",
    "print(bas)"
   ]
  },
  {
   "cell_type": "code",
   "execution_count": null,
   "metadata": {},
   "outputs": [],
   "source": [
    "mol = chem_bond_analyzer.mol\n",
    "scf_mol = chem_bond_analyzer.rohf"
   ]
  },
  {
   "cell_type": "code",
   "execution_count": null,
   "metadata": {},
   "outputs": [],
   "source": [
    "dma,dmb = scf_mol.make_rdm1(scf_mol.mo_coeff,scf_mol.mo_occ)\n",
    "dm1 = dma+dmb\n",
    "print(dm1)"
   ]
  },
  {
   "cell_type": "code",
   "execution_count": null,
   "metadata": {},
   "outputs": [],
   "source": [
    "bas = numpy.matrix(bas)\n",
    "# print(bas)\n",
    "dm1_atm_bas = reduce(numpy.dot,(bas.I,dm1,bas.I.T))\n",
    "\n",
    "print(dm1_atm_bas)\n",
    "\n",
    "Util_Pic.draw_heatmap(dm1_atm_bas, None, None,vmax=2, vmin=-0.5)\n"
   ]
  },
  {
   "cell_type": "code",
   "execution_count": null,
   "metadata": {},
   "outputs": [],
   "source": [
    "dm1[numpy.abs(dm1 - dm1_atm_bas) > 1e-8]"
   ]
  },
  {
   "cell_type": "code",
   "execution_count": null,
   "metadata": {},
   "outputs": [],
   "source": [
    "dm1_atm_bas[numpy.abs(dm1 - dm1_atm_bas) > 1e-8]"
   ]
  },
  {
   "cell_type": "code",
   "execution_count": null,
   "metadata": {},
   "outputs": [],
   "source": [
    "mol_rotated = Util_Mole.get_rotated_mol_coord(mol,[0.0,0.0,0.0],0.23,numpy.pi/2.5,1.34)"
   ]
  },
  {
   "cell_type": "code",
   "execution_count": null,
   "metadata": {},
   "outputs": [],
   "source": [
    "print(mol_rotated)"
   ]
  },
  {
   "cell_type": "code",
   "execution_count": null,
   "metadata": {},
   "outputs": [],
   "source": [
    "chem_bond_analyzer_new = Chem_Bond_Analysis.ChemBondAnalyzer(\n",
    "    xyz=mol_rotated, print_verbose=0,basis=basis)\n",
    "chem_bond_analyzer_new.atom_bas = atom_bas\n",
    "chem_bond_analyzer_new._run_scf()"
   ]
  },
  {
   "cell_type": "code",
   "execution_count": null,
   "metadata": {},
   "outputs": [],
   "source": [
    "print(chem_bond_analyzer_new.e_tot)\n",
    "print(chem_bond_analyzer.e_tot)\n",
    "mol_new = chem_bond_analyzer_new.mol\n",
    "scf_mol_new = chem_bond_analyzer_new.rohf\n",
    "mole_graph_new = chem_bond_analyzer_new.get_mole_graph()\n",
    "bas_new,occ_new = Util_Mole.get_atm_bas_in_mole_fix_local_gauge_problem(chem_bond_analyzer_new.mol,mole_graph_new)"
   ]
  },
  {
   "cell_type": "code",
   "execution_count": null,
   "metadata": {},
   "outputs": [],
   "source": [
    "dma,dmb = scf_mol_new.make_rdm1(scf_mol_new.mo_coeff,scf_mol_new.mo_occ)\n",
    "dm1_new = dma+dmb\n",
    "# print(dm1_new)\n",
    "bas_new = numpy.matrix(bas_new)\n",
    "# print(bas_new)\n",
    "dm1_atm_bas_new = reduce(numpy.dot,(bas_new.I,dm1_new,bas_new.I.T))"
   ]
  },
  {
   "cell_type": "code",
   "execution_count": null,
   "metadata": {},
   "outputs": [],
   "source": [
    "dm1_atm_bas_new[numpy.abs(dm1_atm_bas_new - dm1_atm_bas)>1e-8]"
   ]
  },
  {
   "cell_type": "code",
   "execution_count": null,
   "metadata": {},
   "outputs": [],
   "source": [
    "dm1_atm_bas[numpy.abs(dm1_atm_bas_new - dm1_atm_bas)>1e-8]"
   ]
  },
  {
   "cell_type": "code",
   "execution_count": null,
   "metadata": {},
   "outputs": [],
   "source": [
    "dm1_atm_bas_new[numpy.abs(dm1_atm_bas_new - dm1_atm_bas)<1e-8]"
   ]
  },
  {
   "cell_type": "code",
   "execution_count": null,
   "metadata": {},
   "outputs": [],
   "source": [
    "dm1_atm_bas[numpy.abs(dm1_atm_bas_new - dm1_atm_bas)<1e-8]"
   ]
  },
  {
   "cell_type": "markdown",
   "metadata": {},
   "source": [
    "# you will see that the only thing left is the phase problem, which may be fixed based on ovlp matrix S"
   ]
  },
  {
   "cell_type": "code",
   "execution_count": null,
   "metadata": {},
   "outputs": [],
   "source": [
    "numpy.sum(numpy.abs(dm1_atm_bas_new - dm1_atm_bas)>1e-8)"
   ]
  }
 ],
 "metadata": {
  "kernelspec": {
   "display_name": "Python 3.8.10 64-bit",
   "language": "python",
   "name": "python3"
  },
  "language_info": {
   "codemirror_mode": {
    "name": "ipython",
    "version": 3
   },
   "file_extension": ".py",
   "mimetype": "text/x-python",
   "name": "python",
   "nbconvert_exporter": "python",
   "pygments_lexer": "ipython3",
   "version": "3.6.8 (default, Aug  7 2019, 17:28:10) \n[GCC 4.8.5 20150623 (Red Hat 4.8.5-39)]"
  },
  "orig_nbformat": 4,
  "vscode": {
   "interpreter": {
    "hash": "31f2aee4e71d21fbe5cf8b01ff0e069b9275f58929596ceb00d14d90e3e16cd6"
   }
  }
 },
 "nbformat": 4,
 "nbformat_minor": 2
}
