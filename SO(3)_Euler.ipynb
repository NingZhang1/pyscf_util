{
 "cells": [
  {
   "cell_type": "code",
   "execution_count": null,
   "metadata": {},
   "outputs": [],
   "source": [
    "import pyscf\n",
    "from pyscf import lo\n",
    "import Driver_SCF\n",
    "import get_atom_orb\n",
    "import Util_Mole\n",
    "from functools import reduce\n",
    "import numpy\n",
    "import Chem_Bond_Analysis\n",
    "import seaborn,pandas\n",
    "import matplotlib.pyplot as plt\n",
    "import Util_Math\n",
    "from pyscf.symm.Dmatrix import *"
   ]
  },
  {
   "cell_type": "code",
   "execution_count": null,
   "metadata": {},
   "outputs": [],
   "source": [
    "A = get_euler_angles([1,0,0],[0,1,0])\n",
    "print(A)"
   ]
  },
  {
   "cell_type": "code",
   "execution_count": null,
   "metadata": {},
   "outputs": [],
   "source": [
    "def get_bas_rotate_matrix(mol, alpha, beta, gamma):\n",
    "    res = numpy.zeros((mol.nao, mol.nao), dtype=numpy.float64)\n",
    "    loc = 0\n",
    "    for i in range(mol.nbas):\n",
    "        l = mol.bas_angular(i)\n",
    "        dmat = Dmatrix(l, alpha, beta, gamma, reorder_p=True)\n",
    "        for _ in range(mol.bas_nctr(i)):\n",
    "            res[loc:loc+2*l+1, loc:loc+2*l + 1] = dmat\n",
    "            loc += 2*l+1\n",
    "    return numpy.matrix(res)\n"
   ]
  },
  {
   "cell_type": "code",
   "execution_count": null,
   "metadata": {},
   "outputs": [],
   "source": [
    "def get_rotated_mol_coord(mol, rot_center, alpha, beta, gamma):\n",
    "    coord = mol.atom_coords() * 0.52917720859\n",
    "    # print(coord)\n",
    "    coord -= rot_center\n",
    "    # print(coord)\n",
    "    rot_mat = Util_Math.get_rotation_matrix_euler_angle_ZYZ(alpha, beta, gamma)\n",
    "    # print('rot_mat = ', rot_mat)\n",
    "    # print(coord.T)\n",
    "    coord = numpy.dot(rot_mat, coord.T).T\n",
    "    # print('product ', numpy.dot(rot_mat, coord))\n",
    "    # print('coord', coord)\n",
    "    coord += rot_center\n",
    "    # print(coord)\n",
    "    res = []\n",
    "    for i in range(mol.natm):\n",
    "        res.append([mol.atom_symbol(i), coord[i, :]])\n",
    "\n",
    "    return res\n",
    "\n",
    "def mocoeff_phase_canonicalize(mo_coeff):\n",
    "    for i in range(mo_coeff.shape[1]):\n",
    "        for j in range(mo_coeff.shape[0]):\n",
    "            if abs(mo_coeff[j,i]) > 1e-4:\n",
    "                if mo_coeff[j,i] < 0:\n",
    "                    mo_coeff[:,i] *=-1\n",
    "                break\n",
    "    return mo_coeff"
   ]
  },
  {
   "cell_type": "code",
   "execution_count": null,
   "metadata": {},
   "outputs": [],
   "source": [
    "basis = 'ccpvdz'\n",
    "# mol = Util_Mole.get_mol(xyz = \"O 0 0 0\\n H 1 0 0\\n H 0 1 0\",basis=\"sto-3g\")\n",
    "mol = Util_Mole.get_mol(xyz = \"O 0 0 0\\n H 0 1 0\\n H -1 0 0\",basis=basis,print_verbose=4)\n",
    "rohf = Driver_SCF.Run_SCF(mol)\n"
   ]
  },
  {
   "cell_type": "code",
   "execution_count": null,
   "metadata": {},
   "outputs": [],
   "source": [
    "for i in range(mol.nbas):\n",
    "    print('shell %d on atom %d l = %s has %d contracted GTOs' %\n",
    "          (i, mol.bas_atom(i), mol.bas_angular(i), mol.bas_nctr(i)))\n",
    "mol.ao_labels()"
   ]
  },
  {
   "cell_type": "code",
   "execution_count": null,
   "metadata": {},
   "outputs": [],
   "source": [
    "xyz_new = get_rotated_mol_coord(mol,[0.0,0.0,0.0],A[0],A[1],A[2])\n",
    "print(xyz_new)\n",
    "bas_rot_mat = get_bas_rotate_matrix(mol,A[0],A[1],A[2])\n",
    "print(mol.basis)\n",
    "mol_new = Util_Mole.get_mol(xyz = xyz_new,basis=basis,print_verbose=4)\n",
    "rohf_new = Driver_SCF.Run_SCF(mol_new)\n",
    "# d 矩阵的顺序 ? \n"
   ]
  },
  {
   "cell_type": "code",
   "execution_count": null,
   "metadata": {},
   "outputs": [],
   "source": [
    "for i in range(mol_new.nbas):\n",
    "    print('shell %d on atom %d l = %s has %d contracted GTOs' %\n",
    "          (i, mol_new.bas_atom(i), mol_new.bas_angular(i), mol_new.bas_nctr(i)))\n",
    "mol_new.ao_labels()"
   ]
  },
  {
   "cell_type": "code",
   "execution_count": null,
   "metadata": {},
   "outputs": [],
   "source": [
    "bas_rot_mat[8:13,8:13]"
   ]
  },
  {
   "cell_type": "code",
   "execution_count": null,
   "metadata": {},
   "outputs": [],
   "source": [
    "rohf_mo_coeff_phase = mocoeff_phase_canonicalize(rohf.mo_coeff)\n",
    "rohf_new_mo_coeff_phase = mocoeff_phase_canonicalize(rohf_new.mo_coeff)\n",
    "rohf_rot_mo_coeff_phase = mocoeff_phase_canonicalize(numpy.dot(bas_rot_mat,rohf.mo_coeff))"
   ]
  },
  {
   "cell_type": "code",
   "execution_count": null,
   "metadata": {},
   "outputs": [],
   "source": [
    "print(rohf.mo_coeff[9:14,0:2])\n",
    "print(rohf_new.mo_coeff[9:14,0:2])\n",
    "print(rohf_rot_mo_coeff_phase[9:14,0:2])\n"
   ]
  }
 ],
 "metadata": {
  "interpreter": {
   "hash": "31f2aee4e71d21fbe5cf8b01ff0e069b9275f58929596ceb00d14d90e3e16cd6"
  },
  "kernelspec": {
   "display_name": "Python 3.6.9 64-bit",
   "language": "python",
   "name": "python3"
  },
  "language_info": {
   "codemirror_mode": {
    "name": "ipython",
    "version": 3
   },
   "file_extension": ".py",
   "mimetype": "text/x-python",
   "name": "python",
   "nbconvert_exporter": "python",
   "pygments_lexer": "ipython3",
   "version": "3.6.9"
  },
  "orig_nbformat": 4
 },
 "nbformat": 4,
 "nbformat_minor": 2
}
