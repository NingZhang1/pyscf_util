{
 "cells": [
  {
   "cell_type": "code",
   "execution_count": null,
   "metadata": {},
   "outputs": [],
   "source": [
    "import pyscf\n",
    "from pyscf import lo\n",
    "import Driver_SCF\n",
    "import get_atom_orb\n",
    "import Util_Mole\n",
    "from functools import reduce\n",
    "import numpy\n",
    "import Chem_Bond_Analysis\n",
    "from Chem_Bond_Analysis import generate_atm_bas_given_label,occ_label,vir_label\n",
    "import seaborn, pandas\n",
    "import matplotlib.pyplot as plt\n",
    "import Util_Math\n",
    "import torch\n",
    "import Util_Pic"
   ]
  },
  {
   "cell_type": "code",
   "execution_count": null,
   "metadata": {},
   "outputs": [],
   "source": [
    "basis = \"6-31G(d)\"\n",
    "# basis = \"sto-3g\"\n",
    "# basis = \"ccpvtz\"\n",
    "atom_bas = get_atom_orb.atom_min_cas_bas([\"C\",\"H\",\"O\",\"N\"], basis=basis, print_verbose=0)"
   ]
  },
  {
   "cell_type": "code",
   "execution_count": null,
   "metadata": {},
   "outputs": [],
   "source": [
    "mol_xyz = '''\n",
    "C 0.1687934049 1.5251304224 -0.1574705569\n",
    "C -0.1873762459 0.0619476271 0.1467937419\n",
    "C 0.5091764497 -0.4399621499 1.3912584954\n",
    "O 1.1819107901 -1.4356558471 1.4581638410\n",
    "H 1.2312651068 1.6313725408 -0.3963269270\n",
    "H -0.4074466801 1.8943168107 -1.0096924649\n",
    "H -0.0493103389 2.1726626043 0.6985743244\n",
    "H -1.2690515996 -0.0166806666 0.3285443317\n",
    "H 0.0627906152 -0.6025047855 -0.6847403572\n",
    "H 0.3538484078 0.2066337038 2.2887105216\n",
    "'''"
   ]
  },
  {
   "cell_type": "code",
   "execution_count": null,
   "metadata": {},
   "outputs": [],
   "source": [
    "chem_bond_analyzer = Chem_Bond_Analysis.ChemBondAnalyzer(\n",
    "    xyz=mol_xyz, print_verbose=0,basis=basis)\n",
    "chem_bond_analyzer.atom_bas = atom_bas\n",
    "chem_bond_analyzer._run_scf()"
   ]
  },
  {
   "cell_type": "code",
   "execution_count": null,
   "metadata": {},
   "outputs": [],
   "source": [
    "mole_graph = chem_bond_analyzer.get_mole_graph()"
   ]
  },
  {
   "cell_type": "code",
   "execution_count": null,
   "metadata": {},
   "outputs": [],
   "source": [
    "xyz_list = Util_Mole.get_mol_xyz_list_format(chem_bond_analyzer.mol)"
   ]
  },
  {
   "cell_type": "code",
   "execution_count": null,
   "metadata": {},
   "outputs": [],
   "source": [
    "def get_atm_bas_in_mole_without_local_gauge_problem(mol, mole_graph):\n",
    "    basis = mol.basis\n",
    "    mole_geometric_center = Util_Mole.get_mol_geometric_center(mol)\n",
    "\n",
    "    res = numpy.zeros((mol.nao, mol.nao))\n",
    "    occ = numpy.zeros((mol.nao))\n",
    "\n",
    "    loc_res = 0\n",
    "\n",
    "    for id_atm in range(mol.natm):\n",
    "\n",
    "        # 获取与给原子编号相同的原子\n",
    "\n",
    "        bonded = []\n",
    "        for id in range(0, mol.natm):\n",
    "            if id == id_atm:\n",
    "                continue\n",
    "            if mole_graph[id_atm, id] > 0:\n",
    "                bonded.append(id)\n",
    "\n",
    "        # 构造局域分子\n",
    "\n",
    "        xyz_partial = [[xyz_list[id_atm][0]+'1', xyz_list[id_atm][1]]]\n",
    "\n",
    "        for id in bonded:\n",
    "            xyz_partial.append(xyz_list[id])\n",
    "\n",
    "        xyz_partial.append(['X', mole_geometric_center])\n",
    "\n",
    "        basis_list = {\n",
    "            xyz_list[id_atm][0]+'1': pyscf.gto.basis.load(basis, xyz_list[id_atm][0]),\n",
    "            'C': 'sto-3g',\n",
    "            'H': 'sto-3g',\n",
    "            'O': 'sto-3g',\n",
    "            'N': 'sto-3g',\n",
    "            'X': pyscf.gto.basis.load('sto-3g', 'H')\n",
    "        }\n",
    "\n",
    "        mol_partial = Util_Mole.get_mol(\n",
    "            xyz_partial, spin=None, basis=basis_list)\n",
    "\n",
    "        # make rdm1\n",
    "\n",
    "        scf = pyscf.scf.ROHF(mol_partial)\n",
    "        scf.kernel()\n",
    "        dma, dmb = scf.make_rdm1(scf.mo_coeff, scf.mo_occ)\n",
    "        dm1 = dma + dmb\n",
    "\n",
    "        # 抽出局域原子基组, 用了 HF 可能很慢，暂时先看看可行性, expanded over atomic HF ? \n",
    "\n",
    "        atom = Util_Mole.get_mol([xyz_partial[0]], spin=None, basis=basis_list)\n",
    "        Nao = atom.nao\n",
    "\n",
    "        dm_atm = dm1[:Nao, :Nao]\n",
    "        atom_orb_rotated = numpy.zeros((Nao, Nao))\n",
    "        atom_occ = numpy.zeros((Nao))\n",
    "\n",
    "        loc_now = 0\n",
    "\n",
    "        for i in range(atom.nbas):\n",
    "            # print('shell %d on atom %d l = %s has %d contracted GTOs' %\n",
    "            #       (i, atom.bas_atom(i), atom.bas_angular(i), atom.bas_nctr(i)))\n",
    "            for _ in range(atom.bas_nctr(i)):\n",
    "                loc_end = loc_now + 2*atom.bas_angular(i)+1\n",
    "                if atom.bas_angular(i) == 0:\n",
    "                    atom_orb_rotated[loc_now:loc_end,\n",
    "                                     loc_now:loc_end] = 1.0  # s function\n",
    "                    atom_occ[loc_now:loc_end] = dm_atm[loc_now:loc_end, loc_now:loc_end]\n",
    "                else:\n",
    "                    dm_tmp = dm_atm[loc_now:loc_end, loc_now:loc_end]\n",
    "                    e, m = numpy.linalg.eigh(dm_tmp)  # ascending order\n",
    "                    # print(e)\n",
    "                    atom_orb_rotated[loc_now:loc_end, loc_now:loc_end] = m # m 的相位问题靠 ovlp 矩阵消除\n",
    "                    atom_occ[loc_now:loc_end] = e\n",
    "                loc_now = loc_end\n",
    "\n",
    "        res[loc_res:loc_res+Nao, loc_res:loc_res+Nao] = atom_orb_rotated\n",
    "        occ[loc_res:loc_res+Nao] = atom_occ\n",
    "        loc_res += Nao\n",
    "\n",
    "    return res,occ\n"
   ]
  },
  {
   "cell_type": "code",
   "execution_count": null,
   "metadata": {},
   "outputs": [],
   "source": [
    "bas,occ = get_atm_bas_in_mole_without_local_gauge_problem(chem_bond_analyzer.mol,mole_graph)"
   ]
  },
  {
   "cell_type": "code",
   "execution_count": null,
   "metadata": {},
   "outputs": [],
   "source": [
    "mol = chem_bond_analyzer.mol\n",
    "scf_mol = chem_bond_analyzer.rohf"
   ]
  },
  {
   "cell_type": "code",
   "execution_count": null,
   "metadata": {},
   "outputs": [],
   "source": [
    "dma,dmb = scf_mol.make_rdm1(scf_mol.mo_coeff,scf_mol.mo_occ)\n",
    "dm1 = dma+dmb\n",
    "print(dm1)"
   ]
  },
  {
   "cell_type": "code",
   "execution_count": null,
   "metadata": {},
   "outputs": [],
   "source": [
    "bas = numpy.matrix(bas)\n",
    "print(bas)\n",
    "dm1_atm_bas = reduce(numpy.dot,(bas.I,dm1,bas.I.T))"
   ]
  },
  {
   "cell_type": "code",
   "execution_count": null,
   "metadata": {},
   "outputs": [],
   "source": [
    "dm1[numpy.abs(dm1 - dm1_atm_bas) > 1e-8]"
   ]
  },
  {
   "cell_type": "code",
   "execution_count": null,
   "metadata": {},
   "outputs": [],
   "source": [
    "dm1_atm_bas[numpy.abs(dm1 - dm1_atm_bas) > 1e-8]"
   ]
  },
  {
   "cell_type": "code",
   "execution_count": null,
   "metadata": {},
   "outputs": [],
   "source": [
    "mol_rotated = Util_Mole.get_rotated_mol_coord(mol,[0.0,0.0,0.0],0.0,numpy.pi/2,0.0)"
   ]
  },
  {
   "cell_type": "code",
   "execution_count": null,
   "metadata": {},
   "outputs": [],
   "source": [
    "chem_bond_analyzer_new = Chem_Bond_Analysis.ChemBondAnalyzer(\n",
    "    xyz=mol_rotated, print_verbose=0,basis=basis)\n",
    "chem_bond_analyzer_new.atom_bas = atom_bas\n",
    "chem_bond_analyzer_new._run_scf()"
   ]
  },
  {
   "cell_type": "code",
   "execution_count": null,
   "metadata": {},
   "outputs": [],
   "source": [
    "print(chem_bond_analyzer_new.e_tot)\n",
    "mol_new = chem_bond_analyzer_new.mol\n",
    "scf_mol_new = chem_bond_analyzer_new.rohf\n",
    "mole_graph_new = chem_bond_analyzer_new.get_mole_graph()\n",
    "bas_new,occ_new = get_atm_bas_in_mole_without_local_gauge_problem(chem_bond_analyzer_new.mol,mole_graph_new)"
   ]
  },
  {
   "cell_type": "code",
   "execution_count": null,
   "metadata": {},
   "outputs": [],
   "source": [
    "dma,dmb = scf_mol_new.make_rdm1(scf_mol_new.mo_coeff,scf_mol_new.mo_occ)\n",
    "dm1_new = dma+dmb\n",
    "# print(dm1_new)\n",
    "bas_new = numpy.matrix(bas_new)\n",
    "# print(bas_new)\n",
    "dm1_atm_bas_new = reduce(numpy.dot,(bas_new.I,dm1_new,bas_new.I.T))"
   ]
  },
  {
   "cell_type": "code",
   "execution_count": null,
   "metadata": {},
   "outputs": [],
   "source": [
    "dm1_atm_bas_new[numpy.abs(dm1_atm_bas_new - dm1_atm_bas)>1e-8]"
   ]
  },
  {
   "cell_type": "code",
   "execution_count": null,
   "metadata": {},
   "outputs": [],
   "source": [
    "dm1_atm_bas[numpy.abs(dm1_atm_bas_new - dm1_atm_bas)>1e-8]"
   ]
  },
  {
   "cell_type": "code",
   "execution_count": null,
   "metadata": {},
   "outputs": [],
   "source": [
    "numpy.sum(numpy.abs(dm1_atm_bas_new - dm1_atm_bas) > 1e-8)"
   ]
  }
 ],
 "metadata": {
  "interpreter": {
   "hash": "d527f48314d0ee037b1ffa1b151601e7885fc7b81d36e27342f09dc4bf5a68c1"
  },
  "kernelspec": {
   "display_name": "Python 3.9.12 ('mol_se3')",
   "language": "python",
   "name": "python3"
  },
  "language_info": {
   "codemirror_mode": {
    "name": "ipython",
    "version": 3
   },
   "file_extension": ".py",
   "mimetype": "text/x-python",
   "name": "python",
   "nbconvert_exporter": "python",
   "pygments_lexer": "ipython3",
   "version": "3.9.12"
  },
  "orig_nbformat": 4
 },
 "nbformat": 4,
 "nbformat_minor": 2
}
